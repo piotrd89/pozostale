{
 "cells": [
  {
   "cell_type": "code",
   "execution_count": null,
   "metadata": {},
   "outputs": [],
   "source": [
    "import requests\n",
    "from requests.auth import HTTPBasicAuth\n",
    "import urllib3\n",
    "import json\n",
    "from datetime import datetime\n",
    "from data_operations import convert_date  # moduł utworzony do operacji na datach. Musi być w tym samym folderze co skrypt"
   ]
  },
  {
   "cell_type": "code",
   "execution_count": null,
   "metadata": {},
   "outputs": [],
   "source": [
    "# Wyłączenie ostrzeżeń o nieweryfikowanym certyfikacie\n",
    "urllib3.disable_warnings(urllib3.exceptions.InsecureRequestWarning)\n",
    "\n",
    "login = 'imie.nazwisko'\n",
    "password = 'H@slo'\n",
    "\n",
    "jira_url = 'https://jira.psgaz.pl/rest/auth/1/session'\n",
    "# jira_url = 'https://jira-tst3.psgaz.pl/rest/api/2/issue/PEPAIQAC-2'\n",
    "\n",
    "headers = {\n",
    "    'Accept':'application/json'\n",
    "}\n",
    "\n",
    "auth = HTTPBasicAuth(login,password)\n",
    "# Ścieżka do certyfikatu (opcjonalnie)\n",
    "# Jak będziemy mieli ścieżkę do swojego certyfikatu na dysku to zmieniamy wartość dla verify=cert_path i testujemy czy działa. \n",
    "# cert_path = 'C:\\\\Users\\\\piotr.domagala\\\\Downloads\\\\pdomagala_key.pfx'\n",
    "\n",
    "\n",
    "response = requests.get(jira_url, headers=headers, auth=auth, verify=False)\n",
    "\n",
    "if response.status_code == 200:\n",
    "    print(response.json())\n",
    "else:\n",
    "    print(f'Błąd: {response.status_code} - {response.text}')"
   ]
  },
  {
   "cell_type": "code",
   "execution_count": null,
   "metadata": {},
   "outputs": [],
   "source": [
    "user = response.json()"
   ]
  },
  {
   "cell_type": "code",
   "execution_count": null,
   "metadata": {},
   "outputs": [],
   "source": [
    "# Struktura odpowiedzi JSON w czytelnym formacie\n",
    "user_data = json.dumps(user, indent=4, ensure_ascii=False)\n",
    "print(user_data)"
   ]
  },
  {
   "cell_type": "code",
   "execution_count": null,
   "metadata": {},
   "outputs": [],
   "source": [
    "# Wypisujemy dane użytkownika, który się zalogował\n",
    "\n",
    "user_name = user.get('name',{})\n",
    "user_login_count = user.get('loginInfo',{}).get('loginCount',{})\n",
    "user_failedlogin_count = user.get('loginInfo',{}).get('failedLoginCount',{})\n",
    "user_previous_login_date = user.get('loginInfo',{}).get('previousLoginTime',{})\n",
    "user_last_failed_login_date = user.get('loginInfo',{}).get('lastFailedLoginTime',{})\n",
    "user_previous_login = convert_date(user_previous_login_date)\n",
    "user_last_failed_login = convert_date(user_last_failed_login_date)\n",
    "\n",
    "print(f'Login: {user_name}')\n",
    "print(f'Całkowita liczba logowań: {user_login_count}')\n",
    "print(f'Data ostatniego logowania: {user_previous_login}')\n",
    "print(f'Liczba błędnych logowań: {user_failedlogin_count}')\n",
    "print(f'Data ostatniego błędnego logowania: {user_last_failed_login}')"
   ]
  }
 ],
 "metadata": {
  "kernelspec": {
   "display_name": "Python 3",
   "language": "python",
   "name": "python3"
  },
  "language_info": {
   "codemirror_mode": {
    "name": "ipython",
    "version": 3
   },
   "file_extension": ".py",
   "mimetype": "text/x-python",
   "name": "python",
   "nbconvert_exporter": "python",
   "pygments_lexer": "ipython3",
   "version": "3.12.0"
  }
 },
 "nbformat": 4,
 "nbformat_minor": 2
}
